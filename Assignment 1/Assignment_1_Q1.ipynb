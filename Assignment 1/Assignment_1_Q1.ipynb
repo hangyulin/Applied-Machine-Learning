{
 "cells": [
  {
   "cell_type": "markdown",
   "metadata": {},
   "source": [
    "# 1. Digit Recognizer"
   ]
  },
  {
   "cell_type": "markdown",
   "metadata": {},
   "source": [
    "## (a)"
   ]
  },
  {
   "cell_type": "code",
   "execution_count": 1,
   "metadata": {},
   "outputs": [],
   "source": [
    "import pandas as pd\n",
    "import matplotlib.pyplot as plt\n",
    "import numpy as np\n",
    "from scipy import stats\n",
    "import multiprocessing as mp\n",
    "from functools import partial"
   ]
  },
  {
   "cell_type": "code",
   "execution_count": 2,
   "metadata": {},
   "outputs": [],
   "source": [
    "# Loading data with pandas library\n",
    "train_data_df = pd.read_csv(\"train.csv\")\n",
    "test_data_df = pd.read_csv(\"test.csv\")"
   ]
  },
  {
   "cell_type": "code",
   "execution_count": 3,
   "metadata": {},
   "outputs": [],
   "source": [
    "# Convert dataframe into array format and seperate labels and data\n",
    "train_data = train_data_df.values[:,1:]\n",
    "train_labels = train_data_df.values[:,0]\n",
    "test_data = test_data_df.values"
   ]
  },
  {
   "cell_type": "markdown",
   "metadata": {},
   "source": [
    "## (b)"
   ]
  },
  {
   "cell_type": "code",
   "execution_count": 4,
   "metadata": {},
   "outputs": [
    {
     "data": {
      "image/png": "[encoded data removed]",
      "text/plain": [
       "<Figure size 720x360 with 10 Axes>"
      ]
     },
     "metadata": {
      "needs_background": "light"
     },
     "output_type": "display_data"
    }
   ],
   "source": [
    "# Find one of each of the digits and plot them out\n",
    "counter = 0\n",
    "all_digits_index = []\n",
    "# Run loops to find one of each of the digits\n",
    "while (counter < 10):\n",
    "    for i in range(len(train_labels)):\n",
    "        if train_labels[i] == counter:\n",
    "            all_digits_index.append(i)\n",
    "            counter += 1\n",
    "            break\n",
    "\n",
    "# Plot them all in one image\n",
    "fig = plt.figure(figsize=(10,5))\n",
    "for i in range(10):\n",
    "    p = i + 1\n",
    "    axes = fig.add_subplot(2,5,p)\n",
    "    plt.imshow(train_data[all_digits_index[i]].reshape(28,28), cmap='gray')\n",
    "    axes.title.set_text(train_labels[all_digits_index[i]])"
   ]
  },
  {
   "cell_type": "markdown",
   "metadata": {},
   "source": [
    "## (c)"
   ]
  },
  {
   "cell_type": "code",
   "execution_count": 5,
   "metadata": {},
   "outputs": [
    {
     "name": "stdout",
     "output_type": "stream",
     "text": [
      "Prior probability of each digit:\n",
      "0 : 0.09838\n",
      "1 : 0.11152\n",
      "2 : 0.09945\n",
      "3 : 0.1036\n",
      "4 : 0.09695\n",
      "5 : 0.09036\n",
      "6 : 0.0985\n",
      "7 : 0.10479\n",
      "8 : 0.09674\n",
      "9 : 0.09971\n"
     ]
    }
   ],
   "source": [
    "# Finding the prior prob\n",
    "print(\"Prior probability of each digit:\")\n",
    "for i in range(10):\n",
    "    print(i, \":\", round(sum(train_labels == i)/len(train_labels), 5))"
   ]
  },
  {
   "cell_type": "markdown",
   "metadata": {},
   "source": [
    "From the above probabilities, I would say the dataset is very close to an uniform dataset"
   ]
  },
  {
   "cell_type": "code",
   "execution_count": 6,
   "metadata": {},
   "outputs": [
    {
     "data": {
      "image/png": "[encoded data removed]",
      "text/plain": [
       "<Figure size 432x288 with 1 Axes>"
      ]
     },
     "metadata": {
      "needs_background": "light"
     },
     "output_type": "display_data"
    }
   ],
   "source": [
    "# Plotting histogram\n",
    "fig, ax = plt.subplots()\n",
    "bins = np.array([-0.5,  0.5,  1.5,  2.5,  3.5,  4.5,  5.5,  6.5,  7.5,  8.5,  9.5])\n",
    "_ = ax.hist(train_labels, bins= bins, density=True, rwidth=0.8)\n",
    "_ = ax.set_xticks(bins+0.5)\n",
    "_ = ax.title.set_text(\"Histogram of Piror Probabilities on MNIST\")"
   ]
  },
  {
   "cell_type": "markdown",
   "metadata": {},
   "source": [
    "The histogram seems to be pretty even, but not completely even"
   ]
  },
  {
   "cell_type": "markdown",
   "metadata": {},
   "source": [
    "## (d)"
   ]
  },
  {
   "cell_type": "code",
   "execution_count": 4,
   "metadata": {},
   "outputs": [],
   "source": [
    "# The l2 function\n",
    "def L_2(data_point_1, data_point_2):\n",
    "    return np.sqrt(np.sum((data_point_1 - data_point_2)**2, axis = 1)).T.tolist()"
   ]
  },
  {
   "cell_type": "code",
   "execution_count": 5,
   "metadata": {},
   "outputs": [],
   "source": [
    "# Find 1 random datapoint for each digit\n",
    "counter_1 = 0\n",
    "all_digits_index_1 = []\n",
    "# Set a seed for random so we get the same results\n",
    "np.random.seed(88)\n",
    "# Run loops to find one of each of the digits\n",
    "while (counter_1 < 10):\n",
    "    for i in range(np.random.randint(0, len(train_labels)), len(train_labels)):\n",
    "        if train_labels[i] == counter_1:\n",
    "            all_digits_index_1.append(i)\n",
    "            counter_1 += 1\n",
    "            break"
   ]
  },
  {
   "cell_type": "code",
   "execution_count": 6,
   "metadata": {},
   "outputs": [],
   "source": [
    "def nearest_neighbor(data_point, detail = False):\n",
    "    dist_list = []\n",
    "    dist_list = L_2(data_point, train_data)\n",
    "    # Store the original index before sorting\n",
    "    dist_list_index = []\n",
    "    for j in range(len(dist_list)):\n",
    "        dist_list_index.append([j, dist_list[j]])\n",
    "    # Sort by distance\n",
    "    dist_list_index.sort(key = lambda l: l[1])\n",
    "    \n",
    "    decision_index = []\n",
    "    decision_list = []\n",
    "    if detail == True:\n",
    "        # Only looking at the closest point which also cannot be itself\n",
    "        decision_index.append(dist_list_index[1][0])\n",
    "    decision_list.append(train_labels[dist_list_index[1][0]])\n",
    "    # We want the details to find out why my_KNN failed\n",
    "    if detail == True:\n",
    "        return decision_index\n",
    "    # We do not want to look into the deatils such as which specific index dataset were cloest\n",
    "    else:\n",
    "        return decision_list[0]"
   ]
  },
  {
   "cell_type": "code",
   "execution_count": 7,
   "metadata": {},
   "outputs": [
    {
     "name": "stdout",
     "output_type": "stream",
     "text": [
      "--------\n",
      "Original digit: 0\n",
      "Nearest Neighbor result: 0\n",
      "--------\n",
      "Original digit: 1\n",
      "Nearest Neighbor result: 1\n",
      "--------\n",
      "Original digit: 2\n",
      "Nearest Neighbor result: 2\n",
      "--------\n",
      "Original digit: 3\n",
      "Nearest Neighbor result: 5\n",
      "--------\n",
      "Original digit: 4\n",
      "Nearest Neighbor result: 4\n",
      "--------\n",
      "Original digit: 5\n",
      "Nearest Neighbor result: 5\n",
      "--------\n",
      "Original digit: 6\n",
      "Nearest Neighbor result: 6\n",
      "--------\n",
      "Original digit: 7\n",
      "Nearest Neighbor result: 7\n",
      "--------\n",
      "Original digit: 8\n",
      "Nearest Neighbor result: 8\n",
      "--------\n",
      "Original digit: 9\n",
      "Nearest Neighbor result: 9\n"
     ]
    }
   ],
   "source": [
    "# Use nearest_neighbor on each of the data points\n",
    "for o in range(len(all_digits_index_1)):\n",
    "    random_digit_index = all_digits_index_1[o]\n",
    "    print(\"--------\")\n",
    "    print(\"Original digit:\", train_labels[all_digits_index_1[o]])\n",
    "    print(\"Nearest Neighbor result:\", nearest_neighbor(train_data[all_digits_index_1[o]]))"
   ]
  },
  {
   "cell_type": "code",
   "execution_count": 11,
   "metadata": {},
   "outputs": [
    {
     "name": "stdout",
     "output_type": "stream",
     "text": [
      "Original digit: 3\n",
      "Nearest Neighbor result:\n"
     ]
    },
    {
     "data": {
      "image/png": "[encoded data removed]",
      "text/plain": [
       "<Figure size 360x216 with 2 Axes>"
      ]
     },
     "metadata": {
      "needs_background": "light"
     },
     "output_type": "display_data"
    }
   ],
   "source": [
    "wrong_data_point_index = all_digits_index_1[3]\n",
    "print(\"Original digit:\", train_labels[wrong_data_point_index])\n",
    "print(\"Nearest Neighbor result:\")\n",
    "nearest_neighbor_result = nearest_neighbor(train_data[wrong_data_point_index], detail = True)\n",
    "\n",
    "# Plot out the original datapoint and the 5 closest datapoints\n",
    "# Plotting original datapoint\n",
    "fig = plt.figure(figsize=(5,3))\n",
    "axes = fig.add_subplot(1,2,1)\n",
    "plt.imshow(train_data[wrong_data_point_index].reshape(28,28), cmap='gray')\n",
    "axes.title.set_text([\"Tested Point:\", train_labels[wrong_data_point_index]])\n",
    "axes = fig.add_subplot(1,2,2)\n",
    "plt.imshow(train_data[nearest_neighbor_result[0]].reshape(28,28), cmap='gray')\n",
    "axes.title.set_text([train_labels[nearest_neighbor_result[0]], nearest_neighbor_result[0]])"
   ]
  },
  {
   "cell_type": "markdown",
   "metadata": {},
   "source": [
    "The digit 3 was misclassified as 5 because they look very similar. It was misclassified because we only used the nearest neighbor to classify. The classification accuracy will most likely increase once we use more than 1 nearest neighbor to identify these digits."
   ]
  },
  {
   "cell_type": "markdown",
   "metadata": {},
   "source": [
    "## (e)"
   ]
  },
  {
   "cell_type": "code",
   "execution_count": 8,
   "metadata": {},
   "outputs": [],
   "source": [
    "# We take out all the 0 and 1's from the training dataset\n",
    "data_zeros = train_data[train_labels == 0]\n",
    "data_ones = train_data[train_labels == 1]"
   ]
  },
  {
   "cell_type": "code",
   "execution_count": 9,
   "metadata": {},
   "outputs": [],
   "source": [
    "# Using multiprocessing because taking long time\n",
    "# Generate all indexes for zeros\n",
    "zeros_index = np.arange(len(data_zeros) - 1).tolist()\n",
    "        \n",
    "# Generate all on indexes for ones\n",
    "ones_index = np.arange(len(data_ones) - 1).tolist()"
   ]
  },
  {
   "cell_type": "code",
   "execution_count": 10,
   "metadata": {},
   "outputs": [],
   "source": [
    "# Compute all the genuine pairwise distance\n",
    "# Function to find all zeros genuine pairs distance given index\n",
    "def find_zeros_genuine_dist(genuine_dist, index):\n",
    "    dist = L_2(data_zeros[index], data_zeros[index + 1:])\n",
    "    genuine_dist = genuine_dist + dist\n",
    "    return genuine_dist\n",
    "# Function to find all ones genuine pairs distance given index \n",
    "def find_ones_genuine_dist(genuine_dist, index):\n",
    "    dist = L_2(data_ones[index], data_ones[index + 1:])\n",
    "    genuine_dist = genuine_dist + dist\n",
    "    return genuine_dist\n",
    "\n",
    "# Function to find impostor pairs distance, 0 to 1\n",
    "def find_impostor_dist(impostor_dist, index):\n",
    "    dist = L_2(data_zeros[index], data_ones)\n",
    "    impostor_dist = impostor_dist + dist\n",
    "    return impostor_dist"
   ]
  },
  {
   "cell_type": "code",
   "execution_count": 12,
   "metadata": {},
   "outputs": [],
   "source": [
    "# For all the genuine pairs of 0's\n",
    "genuine_dist = mp.Manager().list()\n",
    "funct_1 = partial(find_zeros_genuine_dist, genuine_dist)\n",
    "pool_1 = mp.Pool(processes = 8)\n",
    "genuine_dist_result_1 = pool_1.map(funct_1, zeros_index)\n",
    "pool_1.close()"
   ]
  },
  {
   "cell_type": "code",
   "execution_count": 13,
   "metadata": {},
   "outputs": [],
   "source": [
    "# For all the genuine pairs of 1's\n",
    "genuine_dist_2 = mp.Manager().list()\n",
    "funct_2 = partial(find_ones_genuine_dist, genuine_dist)\n",
    "pool_2 = mp.Pool(processes = 8)\n",
    "genuine_dist_result_2 = pool_2.map(funct_2, ones_index)\n",
    "pool_2.close()"
   ]
  },
  {
   "cell_type": "code",
   "execution_count": 14,
   "metadata": {},
   "outputs": [],
   "source": [
    "# Combine two lists\n",
    "genuine_dist_result = genuine_dist_result_1 + genuine_dist_result_2\n",
    "# Flatten the list of list into lists\n",
    "genuine_dist_clean = [item for sublist in genuine_dist_result for item in sublist]"
   ]
  },
  {
   "cell_type": "code",
   "execution_count": 15,
   "metadata": {},
   "outputs": [],
   "source": [
    "# For all the impostor pairs of 0 to 1's\n",
    "impostor_dist = mp.Manager().list()\n",
    "funct_3 = partial(find_impostor_dist, impostor_dist)\n",
    "pool_3 = mp.Pool(processes = 8)\n",
    "impostor_dist_result = pool_3.map(funct_3, zeros_index)\n",
    "pool_3.close()"
   ]
  },
  {
   "cell_type": "code",
   "execution_count": 19,
   "metadata": {},
   "outputs": [],
   "source": [
    "# Flatten the list\n",
    "impostor_dist_clean = [item for sublist in impostor_dist_result for item in sublist]"
   ]
  },
  {
   "cell_type": "code",
   "execution_count": 20,
   "metadata": {},
   "outputs": [
    {
     "name": "stdout",
     "output_type": "stream",
     "text": [
      "The number of genuine pairs is: 19502232\n",
      "The number of impostor pairs is: 19349604\n"
     ]
    }
   ],
   "source": [
    "print(\"The number of genuine pairs is:\", len(genuine_dist_clean))\n",
    "print(\"The number of impostor pairs is:\", len(impostor_dist_clean))"
   ]
  },
  {
   "cell_type": "code",
   "execution_count": 21,
   "metadata": {},
   "outputs": [
    {
     "data": {
      "image/png": "[encoded data removed]",
      "text/plain": [
       "<Figure size 720x432 with 1 Axes>"
      ]
     },
     "metadata": {
      "needs_background": "light"
     },
     "output_type": "display_data"
    }
   ],
   "source": [
    "_ = plt.figure(figsize=(10,6))\n",
    "_ = plt.hist(genuine_dist_clean, bins = 30, alpha = 0.5, label = \"Genuine Distance\", density = True)\n",
    "_ = plt.hist(impostor_dist_clean, bins = 30, alpha = 0.5, label = \"Impostor Distance\", density = True)\n",
    "_ = plt.legend()\n",
    "_ = plt.xlabel(\"L2 Distance\")"
   ]
  },
  {
   "cell_type": "markdown",
   "metadata": {},
   "source": [
    "## (f)"
   ]
  },
  {
   "cell_type": "code",
   "execution_count": 22,
   "metadata": {},
   "outputs": [],
   "source": [
    "# ROC curve\n",
    "# We are defining the ROC to be for predicting if the pair of datapoints is genuine or not\n",
    "# Create the bins or steps for ROC curve, anything higher than the threshhold is predicted as impostor\n",
    "# And anything lower or equal to the threshhold is predicted as genuine\n",
    "roc_bins = np.arange(min(genuine_dist_clean), max(impostor_dist_clean),\n",
    "                     (max(impostor_dist_clean) - min(genuine_dist_clean))/25)"
   ]
  },
  {
   "cell_type": "code",
   "execution_count": 23,
   "metadata": {},
   "outputs": [],
   "source": [
    "def cal_roc(genuine_dist_clean, impostor_dist_clean, roc_bins):\n",
    "    perc_genuine = []\n",
    "    perc_impostor = []\n",
    "    for i in range(len(roc_bins) - 1):\n",
    "        perc_genuine.append(sum(genuine_dist_clean < roc_bins[i])/len(genuine_dist_clean))\n",
    "        perc_impostor.append(sum(impostor_dist_clean < roc_bins[i])/len(impostor_dist_clean))\n",
    "    return perc_genuine, perc_impostor"
   ]
  },
  {
   "cell_type": "code",
   "execution_count": 24,
   "metadata": {},
   "outputs": [],
   "source": [
    "# Then we calculate what percentage from each list of genuine and impostor is in that bin range\n",
    "perc_genuine = []\n",
    "perc_impostor = []\n",
    "# To run and calculate, uncomment below\n",
    "##################\n",
    "perc_genuine, perc_impostor = cal_roc(genuine_dist_clean, impostor_dist_clean, roc_bins)\n",
    "# Going to store this data, because it takes a while to run but easy to store and read\n",
    "roc_df = pd.DataFrame({\"bin\": roc_bins, \"genuine\": perc_genuine + [0.00], \"impostor\": perc_impostor + [0.00]})\n",
    "roc_df.to_csv(\"roc_values.csv\", index = False)\n",
    "##################"
   ]
  },
  {
   "cell_type": "code",
   "execution_count": 16,
   "metadata": {},
   "outputs": [],
   "source": [
    "# If already calculated, just load these data, uncomment below\n",
    "#roc_df = pd.read_csv(\"roc_values.csv\")\n",
    "#roc_bins = roc_df.values[:,0]\n",
    "#perc_genuine = roc_df.values[:-1,1]\n",
    "#perc_impostor = roc_df.values[:-1,2]"
   ]
  },
  {
   "cell_type": "code",
   "execution_count": 17,
   "metadata": {},
   "outputs": [
    {
     "data": {
      "image/png": "[encoded data removed]",
      "text/plain": [
       "<Figure size 576x576 with 1 Axes>"
      ]
     },
     "metadata": {
      "needs_background": "light"
     },
     "output_type": "display_data"
    }
   ],
   "source": [
    "# Drawing ROC curve\n",
    "_ = plt.figure(figsize=(8,8))\n",
    "# Plotting ROC curve generated from the distance calculated above\n",
    "_ = plt.plot(perc_impostor, perc_genuine, 'r', label = \"ROC curve using distance\")\n",
    "# Plotting the curve for just guessing\n",
    "guess_curve = [0, 0.5, 0.5, 1]\n",
    "equal_error_curve = [1, 0.5, 0.5, 0]\n",
    "_ = plt.plot(guess_curve, guess_curve, 'b', label = \"Just guessing\")\n",
    "_ = plt.plot(guess_curve, equal_error_curve, 'g', linestyle = \"--\")\n",
    "_ = plt.title(\"ROC Curve\")\n",
    "_ = plt.xlabel(\"False Positive Rate\")\n",
    "_ = plt.ylabel(\"True Positive Rate\")\n",
    "_ = plt.legend()"
   ]
  },
  {
   "cell_type": "markdown",
   "metadata": {},
   "source": [
    "## (g)"
   ]
  },
  {
   "cell_type": "code",
   "execution_count": 5,
   "metadata": {},
   "outputs": [],
   "source": [
    "def my_knn(data_point, train_dat = train_data, train_labs = train_labels, k = [5], detail = False):\n",
    "    dist_list = []\n",
    "    dist_list = L_2(data_point, train_dat)\n",
    "    # Store the original index before sorting\n",
    "    dist_list_index = []\n",
    "    for j in range(len(dist_list)):\n",
    "        dist_list_index.append([j, dist_list[j]])\n",
    "    # Sort by distance\n",
    "    dist_list_index.sort(key = lambda l: l[1])\n",
    "    \n",
    "    decision_index_all = []\n",
    "    decision_list_all = []\n",
    "    for each_k in k:\n",
    "        decision_index = []\n",
    "        decision_list = []\n",
    "        for h in range(1, each_k + 1):\n",
    "            if detail == True:\n",
    "                decision_index.append(dist_list_index[h][0])\n",
    "            decision_list.append(train_labs[dist_list_index[h][0]])\n",
    "        decision_index_all.append(decision_index)\n",
    "        decision_list_all.append(decision_list)\n",
    "    # We want the details to find out why my_KNN failed\n",
    "    if detail == True:\n",
    "        return decision_index_all\n",
    "    # We do not want to look into the deatils such as which specific index dataset were cloest\n",
    "    else:\n",
    "        predictions = []\n",
    "        for each in decision_list_all:\n",
    "            predictions.append(stats.mode(each)[0][0])\n",
    "        return predictions"
   ]
  },
  {
   "cell_type": "code",
   "execution_count": 60,
   "metadata": {},
   "outputs": [],
   "source": [
    "# Find 1 random datapoint for each digit\n",
    "counter_1 = 0\n",
    "all_digits_index_1 = []\n",
    "# Set a seed for random so we get the same results\n",
    "np.random.seed(2)\n",
    "# Run loops to find one of each of the digits\n",
    "while (counter_1 < 10):\n",
    "    for i in range(np.random.randint(0, len(train_labels)), len(train_labels)):\n",
    "        if train_labels[i] == counter_1:\n",
    "            all_digits_index_1.append(i)\n",
    "            counter_1 += 1\n",
    "            break"
   ]
  },
  {
   "cell_type": "code",
   "execution_count": 61,
   "metadata": {},
   "outputs": [
    {
     "name": "stdout",
     "output_type": "stream",
     "text": [
      "--------\n",
      "Original digit: 0\n",
      "KNN result: 0\n",
      "--------\n",
      "Original digit: 1\n",
      "KNN result: 1\n",
      "--------\n",
      "Original digit: 2\n",
      "KNN result: 2\n",
      "--------\n",
      "Original digit: 3\n",
      "KNN result: 3\n",
      "--------\n",
      "Original digit: 4\n",
      "KNN result: 4\n",
      "--------\n",
      "Original digit: 5\n",
      "KNN result: 5\n",
      "--------\n",
      "Original digit: 6\n",
      "KNN result: 6\n",
      "--------\n",
      "Original digit: 7\n",
      "KNN result: 7\n",
      "--------\n",
      "Original digit: 8\n",
      "KNN result: 5\n",
      "--------\n",
      "Original digit: 9\n",
      "KNN result: 9\n"
     ]
    }
   ],
   "source": [
    "# Use my_KNN on each of the data points\n",
    "for o in range(len(all_digits_index_1)):\n",
    "    random_digit_index = all_digits_index_1[o]\n",
    "    print(\"--------\")\n",
    "    print(\"Original digit:\", train_labels[all_digits_index_1[o]])\n",
    "    print(\"KNN result:\", my_knn(train_data[all_digits_index_1[o]])[0])"
   ]
  },
  {
   "cell_type": "markdown",
   "metadata": {},
   "source": [
    "### The KNN result for the 8th data point of label 8 is wrong, we will take a closer look at the nearest 5 neighbors"
   ]
  },
  {
   "cell_type": "code",
   "execution_count": 86,
   "metadata": {},
   "outputs": [
    {
     "name": "stdout",
     "output_type": "stream",
     "text": [
      "Original digit: 8\n",
      "KNN result:\n"
     ]
    },
    {
     "data": {
      "image/png": "[encoded data removed]",
      "text/plain": [
       "<Figure size 1008x432 with 6 Axes>"
      ]
     },
     "metadata": {
      "needs_background": "light"
     },
     "output_type": "display_data"
    }
   ],
   "source": [
    "wrong_data_point_index = all_digits_index_1[8]\n",
    "print(\"Original digit:\", train_labels[wrong_data_point_index])\n",
    "print(\"KNN result:\")\n",
    "knn_result = my_knn(train_data[wrong_data_point_index], detail = True)[0]\n",
    "\n",
    "# Plot out the original datapoint and the 5 closest datapoints\n",
    "# Plotting original datapoint\n",
    "fig = plt.figure(figsize=(14,6))\n",
    "axes = fig.add_subplot(2,5,1)\n",
    "plt.imshow(train_data[wrong_data_point_index].reshape(28,28), cmap='gray')\n",
    "axes.title.set_text([\"Tested Point label:\", train_labels[wrong_data_point_index]])\n",
    "\n",
    "for o in range(5):\n",
    "    p = o + 6\n",
    "    axes = fig.add_subplot(2,5,p)\n",
    "    plt.imshow(train_data[knn_result[o]].reshape(28,28), cmap='gray')\n",
    "    axes.title.set_text([\"Label:\",train_labels[knn_result[o]], \"Index:\", knn_result[o]])"
   ]
  },
  {
   "cell_type": "markdown",
   "metadata": {},
   "source": [
    "The number 8 here looks a lot like the number 3 and somewhat looks like 5. There are in total two 3's and two 5's whereas only one 8 is present for the nearest 5 neighbors. As a result, the algorithm generates the result of 3. "
   ]
  },
  {
   "cell_type": "markdown",
   "metadata": {},
   "source": [
    "## (h)"
   ]
  },
  {
   "cell_type": "code",
   "execution_count": 137,
   "metadata": {},
   "outputs": [],
   "source": [
    "# First split the dataset into three parts to use for the 3 fold cross-validation\n",
    "fold_1_data = train_data[:len(train_data)//3]\n",
    "fold_1_labels = train_labels[:len(train_labels)//3]\n",
    "\n",
    "fold_2_data = train_data[len(train_data)//3:2*(len(train_data)//3)]\n",
    "fold_2_labels = train_labels[len(train_data)//3:2*(len(train_data)//3)]\n",
    "\n",
    "fold_3_data = train_data[2*(len(train_data)//3):]\n",
    "fold_3_labels = train_labels[2*(len(train_data)//3):]\n",
    "\n",
    "# Combine data and label for each fold as validation info\n",
    "fold_1_info = list(zip(fold_1_labels, fold_1_data))\n",
    "fold_2_info = list(zip(fold_2_labels, fold_2_data))\n",
    "fold_3_info = list(zip(fold_3_labels, fold_3_data))"
   ]
  },
  {
   "cell_type": "code",
   "execution_count": 138,
   "metadata": {},
   "outputs": [],
   "source": [
    "# We want to test and get the best parameter for K\n",
    "# We will test the result for each validation data point using K = [1,3,5,7,9]\n",
    "# Create a function to run each fold\n",
    "def run_fold(knn_results, train_info, validation_info):\n",
    "    train_lab, train_dat = train_info\n",
    "    validation_lab, validation_dat = validation_info\n",
    "    result = my_knn(data_point = validation_dat, train_dat = train_dat, train_labs = train_lab, k = [1,3,5,7,9])\n",
    "    # Put the results into corresponding list\n",
    "    knn_results.append([validation_lab, result[0], result[1], result[2], result[3], result[4]])"
   ]
  },
  {
   "cell_type": "code",
   "execution_count": 139,
   "metadata": {},
   "outputs": [],
   "source": [
    "# Create a global list for multiprocessing to use\n",
    "knn_results = mp.Manager().list()\n",
    "# Using multiprocessing to run the first fold as validation\n",
    "funct_fold_1 = partial(run_fold, knn_results, (np.concatenate((fold_2_labels, fold_3_labels)),\n",
    "                                               np.concatenate((fold_2_data, fold_3_data), axis = 0)))\n",
    "pool_fold_1 = mp.Pool(processes = 12)\n",
    "pool_fold_1.map(funct_fold_1, fold_1_info)\n",
    "pool_fold_1.close()\n",
    "\n",
    "# Store the results form the first fold\n",
    "fold_1_results = list(knn_results)"
   ]
  },
  {
   "cell_type": "code",
   "execution_count": 140,
   "metadata": {},
   "outputs": [],
   "source": [
    "# Create a global list for multiprocessing to use\n",
    "knn_results = mp.Manager().list()\n",
    "# Using multiprocessing to run the first fold as validation\n",
    "funct_fold_2 = partial(run_fold, knn_results, (np.concatenate((fold_1_labels, fold_3_labels)),\n",
    "                                               np.concatenate((fold_1_data, fold_3_data), axis = 0)))\n",
    "pool_fold_2 = mp.Pool(processes = 12)\n",
    "pool_fold_2.map(funct_fold_2, fold_2_info)\n",
    "pool_fold_2.close()\n",
    "\n",
    "# Store the results form the first fold\n",
    "fold_2_results = list(knn_results)"
   ]
  },
  {
   "cell_type": "code",
   "execution_count": 141,
   "metadata": {},
   "outputs": [],
   "source": [
    "# Create a global list for multiprocessing to use\n",
    "knn_results = mp.Manager().list()\n",
    "# Using multiprocessing to run the first fold as validation\n",
    "funct_fold_3 = partial(run_fold, knn_results, (np.concatenate((fold_2_labels, fold_3_labels)),\n",
    "                                               np.concatenate((fold_2_data, fold_3_data), axis = 0)))\n",
    "pool_fold_3 = mp.Pool(processes = 12)\n",
    "pool_fold_3.map(funct_fold_3, fold_3_info)\n",
    "pool_fold_3.close()\n",
    "\n",
    "# Store the results form the first fold\n",
    "fold_3_results = list(knn_results)"
   ]
  },
  {
   "cell_type": "code",
   "execution_count": 142,
   "metadata": {},
   "outputs": [],
   "source": [
    "# Combine the three folds\n",
    "knn_result_list = fold_1_results + fold_2_results + fold_3_results"
   ]
  },
  {
   "cell_type": "code",
   "execution_count": 143,
   "metadata": {},
   "outputs": [],
   "source": [
    "# Going to store this KNN results, because it takes a while to run but easy to store and read\n",
    "knn_df = pd.DataFrame(knn_result_list)\n",
    "knn_df.columns = [\"actual\", \"k_1\", \"k_3\", \"k_5\",\"k_7\", \"k_9\"]\n",
    "knn_df.to_csv(\"knn_result.csv\", index = False)"
   ]
  },
  {
   "cell_type": "code",
   "execution_count": null,
   "metadata": {},
   "outputs": [],
   "source": [
    "# Read the KNN results in case of crash\n",
    "#knn_df = pd.read_csv(\"knn_result.csv\")"
   ]
  },
  {
   "cell_type": "code",
   "execution_count": 144,
   "metadata": {},
   "outputs": [
    {
     "name": "stdout",
     "output_type": "stream",
     "text": [
      "Average accuracy rate of cross validation\n",
      "K = 1: 0.9578095238095238\n",
      "K = 3: 0.9599761904761904\n",
      "K = 5: 0.959452380952381\n",
      "K = 7: 0.9592619047619048\n",
      "K = 9: 0.9579285714285715\n"
     ]
    }
   ],
   "source": [
    "print(\"Average accuracy rate of cross validation\")\n",
    "print(\"K = 1:\", sum(knn_df[\"actual\"] == knn_df[\"k_1\"])/len(knn_df[\"actual\"]))\n",
    "print(\"K = 3:\", sum(knn_df[\"actual\"] == knn_df[\"k_3\"])/len(knn_df[\"actual\"]))\n",
    "print(\"K = 5:\", sum(knn_df[\"actual\"] == knn_df[\"k_5\"])/len(knn_df[\"actual\"]))\n",
    "print(\"K = 7:\", sum(knn_df[\"actual\"] == knn_df[\"k_7\"])/len(knn_df[\"actual\"]))\n",
    "print(\"K = 9:\", sum(knn_df[\"actual\"] == knn_df[\"k_9\"])/len(knn_df[\"actual\"]))"
   ]
  },
  {
   "cell_type": "markdown",
   "metadata": {},
   "source": [
    "### So the best K we determined with the current method is 3\n",
    "The average accuracy rate is around 96%\n",
    "We will use K = 3 from now on"
   ]
  },
  {
   "cell_type": "markdown",
   "metadata": {},
   "source": [
    "## (i)"
   ]
  },
  {
   "cell_type": "code",
   "execution_count": 212,
   "metadata": {},
   "outputs": [],
   "source": [
    "# For k = 3, find all predictions when actual label is from 0 - 9\n",
    "confusion_0 = pd.DataFrame(knn_df[knn_df[\"actual\"] == 0].groupby('k_3').size(),index=[0,1,2,3,4,5,6,7,8,9]).fillna(0)\n",
    "confusion_1 = pd.DataFrame(knn_df[knn_df[\"actual\"] == 1].groupby('k_3').size(),index=[0,1,2,3,4,5,6,7,8,9]).fillna(0)\n",
    "confusion_2 = pd.DataFrame(knn_df[knn_df[\"actual\"] == 2].groupby('k_3').size(),index=[0,1,2,3,4,5,6,7,8,9]).fillna(0)\n",
    "confusion_3 = pd.DataFrame(knn_df[knn_df[\"actual\"] == 3].groupby('k_3').size(),index=[0,1,2,3,4,5,6,7,8,9]).fillna(0)\n",
    "confusion_4 = pd.DataFrame(knn_df[knn_df[\"actual\"] == 4].groupby('k_3').size(),index=[0,1,2,3,4,5,6,7,8,9]).fillna(0)\n",
    "confusion_5 = pd.DataFrame(knn_df[knn_df[\"actual\"] == 5].groupby('k_3').size(),index=[0,1,2,3,4,5,6,7,8,9]).fillna(0)\n",
    "confusion_6 = pd.DataFrame(knn_df[knn_df[\"actual\"] == 6].groupby('k_3').size(),index=[0,1,2,3,4,5,6,7,8,9]).fillna(0)\n",
    "confusion_7 = pd.DataFrame(knn_df[knn_df[\"actual\"] == 7].groupby('k_3').size(),index=[0,1,2,3,4,5,6,7,8,9]).fillna(0)\n",
    "confusion_8 = pd.DataFrame(knn_df[knn_df[\"actual\"] == 8].groupby('k_3').size(),index=[0,1,2,3,4,5,6,7,8,9]).fillna(0)\n",
    "confusion_9 = pd.DataFrame(knn_df[knn_df[\"actual\"] == 9].groupby('k_3').size(),index=[0,1,2,3,4,5,6,7,8,9]).fillna(0)"
   ]
  },
  {
   "cell_type": "code",
   "execution_count": 228,
   "metadata": {},
   "outputs": [
    {
     "data": {
      "text/html": [
       "<div>\n",
       "<style scoped>\n",
       "    .dataframe tbody tr th:only-of-type {\n",
       "        vertical-align: middle;\n",
       "    }\n",
       "\n",
       "    .dataframe tbody tr th {\n",
       "        vertical-align: top;\n",
       "    }\n",
       "\n",
       "    .dataframe thead th {\n",
       "        text-align: right;\n",
       "    }\n",
       "</style>\n",
       "<table border=\"1\" class=\"dataframe\">\n",
       "  <thead>\n",
       "    <tr style=\"text-align: right;\">\n",
       "      <th></th>\n",
       "      <th>0</th>\n",
       "      <th>1</th>\n",
       "      <th>2</th>\n",
       "      <th>3</th>\n",
       "      <th>4</th>\n",
       "      <th>5</th>\n",
       "      <th>6</th>\n",
       "      <th>7</th>\n",
       "      <th>8</th>\n",
       "      <th>9</th>\n",
       "    </tr>\n",
       "  </thead>\n",
       "  <tbody>\n",
       "    <tr>\n",
       "      <th>0</th>\n",
       "      <td>4100.0</td>\n",
       "      <td>1.0</td>\n",
       "      <td>30</td>\n",
       "      <td>8</td>\n",
       "      <td>4.0</td>\n",
       "      <td>18</td>\n",
       "      <td>29.0</td>\n",
       "      <td>3.0</td>\n",
       "      <td>23</td>\n",
       "      <td>16</td>\n",
       "    </tr>\n",
       "    <tr>\n",
       "      <th>1</th>\n",
       "      <td>0.0</td>\n",
       "      <td>4658.0</td>\n",
       "      <td>65</td>\n",
       "      <td>9</td>\n",
       "      <td>49.0</td>\n",
       "      <td>9</td>\n",
       "      <td>8.0</td>\n",
       "      <td>61.0</td>\n",
       "      <td>50</td>\n",
       "      <td>11</td>\n",
       "    </tr>\n",
       "    <tr>\n",
       "      <th>2</th>\n",
       "      <td>6.0</td>\n",
       "      <td>10.0</td>\n",
       "      <td>3961</td>\n",
       "      <td>32</td>\n",
       "      <td>1.0</td>\n",
       "      <td>2</td>\n",
       "      <td>4.0</td>\n",
       "      <td>15.0</td>\n",
       "      <td>34</td>\n",
       "      <td>6</td>\n",
       "    </tr>\n",
       "    <tr>\n",
       "      <th>3</th>\n",
       "      <td>1.0</td>\n",
       "      <td>2.0</td>\n",
       "      <td>14</td>\n",
       "      <td>4173</td>\n",
       "      <td>0.0</td>\n",
       "      <td>83</td>\n",
       "      <td>0.0</td>\n",
       "      <td>2.0</td>\n",
       "      <td>95</td>\n",
       "      <td>33</td>\n",
       "    </tr>\n",
       "    <tr>\n",
       "      <th>4</th>\n",
       "      <td>0.0</td>\n",
       "      <td>2.0</td>\n",
       "      <td>6</td>\n",
       "      <td>2</td>\n",
       "      <td>3882.0</td>\n",
       "      <td>5</td>\n",
       "      <td>5.0</td>\n",
       "      <td>15.0</td>\n",
       "      <td>33</td>\n",
       "      <td>67</td>\n",
       "    </tr>\n",
       "    <tr>\n",
       "      <th>5</th>\n",
       "      <td>7.0</td>\n",
       "      <td>0.0</td>\n",
       "      <td>2</td>\n",
       "      <td>51</td>\n",
       "      <td>0.0</td>\n",
       "      <td>3592</td>\n",
       "      <td>16.0</td>\n",
       "      <td>0.0</td>\n",
       "      <td>85</td>\n",
       "      <td>18</td>\n",
       "    </tr>\n",
       "    <tr>\n",
       "      <th>6</th>\n",
       "      <td>13.0</td>\n",
       "      <td>2.0</td>\n",
       "      <td>4</td>\n",
       "      <td>2</td>\n",
       "      <td>13.0</td>\n",
       "      <td>44</td>\n",
       "      <td>4073.0</td>\n",
       "      <td>0.0</td>\n",
       "      <td>19</td>\n",
       "      <td>2</td>\n",
       "    </tr>\n",
       "    <tr>\n",
       "      <th>7</th>\n",
       "      <td>3.0</td>\n",
       "      <td>7.0</td>\n",
       "      <td>81</td>\n",
       "      <td>25</td>\n",
       "      <td>6.0</td>\n",
       "      <td>4</td>\n",
       "      <td>0.0</td>\n",
       "      <td>4253.0</td>\n",
       "      <td>12</td>\n",
       "      <td>64</td>\n",
       "    </tr>\n",
       "    <tr>\n",
       "      <th>8</th>\n",
       "      <td>1.0</td>\n",
       "      <td>1.0</td>\n",
       "      <td>8</td>\n",
       "      <td>28</td>\n",
       "      <td>1.0</td>\n",
       "      <td>10</td>\n",
       "      <td>2.0</td>\n",
       "      <td>0.0</td>\n",
       "      <td>3663</td>\n",
       "      <td>7</td>\n",
       "    </tr>\n",
       "    <tr>\n",
       "      <th>9</th>\n",
       "      <td>1.0</td>\n",
       "      <td>1.0</td>\n",
       "      <td>6</td>\n",
       "      <td>21</td>\n",
       "      <td>116.0</td>\n",
       "      <td>28</td>\n",
       "      <td>0.0</td>\n",
       "      <td>52.0</td>\n",
       "      <td>49</td>\n",
       "      <td>3964</td>\n",
       "    </tr>\n",
       "  </tbody>\n",
       "</table>\n",
       "</div>"
      ],
      "text/plain": [
       "        0       1     2     3       4     5       6       7     8     9\n",
       "0  4100.0     1.0    30     8     4.0    18    29.0     3.0    23    16\n",
       "1     0.0  4658.0    65     9    49.0     9     8.0    61.0    50    11\n",
       "2     6.0    10.0  3961    32     1.0     2     4.0    15.0    34     6\n",
       "3     1.0     2.0    14  4173     0.0    83     0.0     2.0    95    33\n",
       "4     0.0     2.0     6     2  3882.0     5     5.0    15.0    33    67\n",
       "5     7.0     0.0     2    51     0.0  3592    16.0     0.0    85    18\n",
       "6    13.0     2.0     4     2    13.0    44  4073.0     0.0    19     2\n",
       "7     3.0     7.0    81    25     6.0     4     0.0  4253.0    12    64\n",
       "8     1.0     1.0     8    28     1.0    10     2.0     0.0  3663     7\n",
       "9     1.0     1.0     6    21   116.0    28     0.0    52.0    49  3964"
      ]
     },
     "execution_count": 228,
     "metadata": {},
     "output_type": "execute_result"
    }
   ],
   "source": [
    "confusion_matrix = pd.DataFrame({\"0\":confusion_0.T.values[0], \"1\":confusion_1.T.values[0], \"2\":confusion_2.T.values[0],\n",
    "                                 \"3\":confusion_3.T.values[0], \"4\":confusion_4.T.values[0], \"5\":confusion_5.T.values[0],\n",
    "                                 \"6\":confusion_6.T.values[0], \"7\":confusion_7.T.values[0], \"8\":confusion_8.T.values[0],\n",
    "                                 \"9\":confusion_9.T.values[0]}, index=[0,1,2,3,4,5,6,7,8,9])\n",
    "confusion_matrix"
   ]
  },
  {
   "cell_type": "code",
   "execution_count": 230,
   "metadata": {},
   "outputs": [],
   "source": [
    "# Find what percentage of the predition for each digit\n",
    "confusion_0_density = confusion_0/confusion_0.sum()\n",
    "confusion_1_density = confusion_1/confusion_1.sum()\n",
    "confusion_2_density = confusion_2/confusion_2.sum()\n",
    "confusion_3_density = confusion_3/confusion_3.sum()\n",
    "confusion_4_density = confusion_4/confusion_4.sum()\n",
    "confusion_5_density = confusion_5/confusion_5.sum()\n",
    "confusion_6_density = confusion_6/confusion_6.sum()\n",
    "confusion_7_density = confusion_7/confusion_7.sum()\n",
    "confusion_8_density = confusion_8/confusion_8.sum()\n",
    "confusion_9_density = confusion_9/confusion_9.sum()"
   ]
  },
  {
   "cell_type": "code",
   "execution_count": 231,
   "metadata": {},
   "outputs": [
    {
     "data": {
      "text/html": [
       "<div>\n",
       "<style scoped>\n",
       "    .dataframe tbody tr th:only-of-type {\n",
       "        vertical-align: middle;\n",
       "    }\n",
       "\n",
       "    .dataframe tbody tr th {\n",
       "        vertical-align: top;\n",
       "    }\n",
       "\n",
       "    .dataframe thead th {\n",
       "        text-align: right;\n",
       "    }\n",
       "</style>\n",
       "<table border=\"1\" class=\"dataframe\">\n",
       "  <thead>\n",
       "    <tr style=\"text-align: right;\">\n",
       "      <th></th>\n",
       "      <th>0</th>\n",
       "      <th>1</th>\n",
       "      <th>2</th>\n",
       "      <th>3</th>\n",
       "      <th>4</th>\n",
       "      <th>5</th>\n",
       "      <th>6</th>\n",
       "      <th>7</th>\n",
       "      <th>8</th>\n",
       "      <th>9</th>\n",
       "    </tr>\n",
       "  </thead>\n",
       "  <tbody>\n",
       "    <tr>\n",
       "      <th>0</th>\n",
       "      <td>0.992256</td>\n",
       "      <td>0.000213</td>\n",
       "      <td>0.007182</td>\n",
       "      <td>0.001839</td>\n",
       "      <td>0.000982</td>\n",
       "      <td>0.004743</td>\n",
       "      <td>0.007010</td>\n",
       "      <td>0.000682</td>\n",
       "      <td>0.005661</td>\n",
       "      <td>0.003820</td>\n",
       "    </tr>\n",
       "    <tr>\n",
       "      <th>1</th>\n",
       "      <td>0.000000</td>\n",
       "      <td>0.994449</td>\n",
       "      <td>0.015561</td>\n",
       "      <td>0.002068</td>\n",
       "      <td>0.012033</td>\n",
       "      <td>0.002372</td>\n",
       "      <td>0.001934</td>\n",
       "      <td>0.013860</td>\n",
       "      <td>0.012306</td>\n",
       "      <td>0.002627</td>\n",
       "    </tr>\n",
       "    <tr>\n",
       "      <th>2</th>\n",
       "      <td>0.001452</td>\n",
       "      <td>0.002135</td>\n",
       "      <td>0.948288</td>\n",
       "      <td>0.007355</td>\n",
       "      <td>0.000246</td>\n",
       "      <td>0.000527</td>\n",
       "      <td>0.000967</td>\n",
       "      <td>0.003408</td>\n",
       "      <td>0.008368</td>\n",
       "      <td>0.001433</td>\n",
       "    </tr>\n",
       "    <tr>\n",
       "      <th>3</th>\n",
       "      <td>0.000242</td>\n",
       "      <td>0.000427</td>\n",
       "      <td>0.003352</td>\n",
       "      <td>0.959090</td>\n",
       "      <td>0.000000</td>\n",
       "      <td>0.021871</td>\n",
       "      <td>0.000000</td>\n",
       "      <td>0.000454</td>\n",
       "      <td>0.023382</td>\n",
       "      <td>0.007880</td>\n",
       "    </tr>\n",
       "    <tr>\n",
       "      <th>4</th>\n",
       "      <td>0.000000</td>\n",
       "      <td>0.000427</td>\n",
       "      <td>0.001436</td>\n",
       "      <td>0.000460</td>\n",
       "      <td>0.953340</td>\n",
       "      <td>0.001318</td>\n",
       "      <td>0.001209</td>\n",
       "      <td>0.003408</td>\n",
       "      <td>0.008122</td>\n",
       "      <td>0.015998</td>\n",
       "    </tr>\n",
       "    <tr>\n",
       "      <th>5</th>\n",
       "      <td>0.001694</td>\n",
       "      <td>0.000000</td>\n",
       "      <td>0.000479</td>\n",
       "      <td>0.011721</td>\n",
       "      <td>0.000000</td>\n",
       "      <td>0.946509</td>\n",
       "      <td>0.003868</td>\n",
       "      <td>0.000000</td>\n",
       "      <td>0.020921</td>\n",
       "      <td>0.004298</td>\n",
       "    </tr>\n",
       "    <tr>\n",
       "      <th>6</th>\n",
       "      <td>0.003146</td>\n",
       "      <td>0.000427</td>\n",
       "      <td>0.000958</td>\n",
       "      <td>0.000460</td>\n",
       "      <td>0.003193</td>\n",
       "      <td>0.011594</td>\n",
       "      <td>0.984530</td>\n",
       "      <td>0.000000</td>\n",
       "      <td>0.004676</td>\n",
       "      <td>0.000478</td>\n",
       "    </tr>\n",
       "    <tr>\n",
       "      <th>7</th>\n",
       "      <td>0.000726</td>\n",
       "      <td>0.001494</td>\n",
       "      <td>0.019392</td>\n",
       "      <td>0.005746</td>\n",
       "      <td>0.001473</td>\n",
       "      <td>0.001054</td>\n",
       "      <td>0.000000</td>\n",
       "      <td>0.966371</td>\n",
       "      <td>0.002953</td>\n",
       "      <td>0.015282</td>\n",
       "    </tr>\n",
       "    <tr>\n",
       "      <th>8</th>\n",
       "      <td>0.000242</td>\n",
       "      <td>0.000213</td>\n",
       "      <td>0.001915</td>\n",
       "      <td>0.006435</td>\n",
       "      <td>0.000246</td>\n",
       "      <td>0.002635</td>\n",
       "      <td>0.000483</td>\n",
       "      <td>0.000000</td>\n",
       "      <td>0.901551</td>\n",
       "      <td>0.001671</td>\n",
       "    </tr>\n",
       "    <tr>\n",
       "      <th>9</th>\n",
       "      <td>0.000242</td>\n",
       "      <td>0.000213</td>\n",
       "      <td>0.001436</td>\n",
       "      <td>0.004826</td>\n",
       "      <td>0.028487</td>\n",
       "      <td>0.007378</td>\n",
       "      <td>0.000000</td>\n",
       "      <td>0.011815</td>\n",
       "      <td>0.012060</td>\n",
       "      <td>0.946514</td>\n",
       "    </tr>\n",
       "  </tbody>\n",
       "</table>\n",
       "</div>"
      ],
      "text/plain": [
       "          0         1         2         3         4         5         6  \\\n",
       "0  0.992256  0.000213  0.007182  0.001839  0.000982  0.004743  0.007010   \n",
       "1  0.000000  0.994449  0.015561  0.002068  0.012033  0.002372  0.001934   \n",
       "2  0.001452  0.002135  0.948288  0.007355  0.000246  0.000527  0.000967   \n",
       "3  0.000242  0.000427  0.003352  0.959090  0.000000  0.021871  0.000000   \n",
       "4  0.000000  0.000427  0.001436  0.000460  0.953340  0.001318  0.001209   \n",
       "5  0.001694  0.000000  0.000479  0.011721  0.000000  0.946509  0.003868   \n",
       "6  0.003146  0.000427  0.000958  0.000460  0.003193  0.011594  0.984530   \n",
       "7  0.000726  0.001494  0.019392  0.005746  0.001473  0.001054  0.000000   \n",
       "8  0.000242  0.000213  0.001915  0.006435  0.000246  0.002635  0.000483   \n",
       "9  0.000242  0.000213  0.001436  0.004826  0.028487  0.007378  0.000000   \n",
       "\n",
       "          7         8         9  \n",
       "0  0.000682  0.005661  0.003820  \n",
       "1  0.013860  0.012306  0.002627  \n",
       "2  0.003408  0.008368  0.001433  \n",
       "3  0.000454  0.023382  0.007880  \n",
       "4  0.003408  0.008122  0.015998  \n",
       "5  0.000000  0.020921  0.004298  \n",
       "6  0.000000  0.004676  0.000478  \n",
       "7  0.966371  0.002953  0.015282  \n",
       "8  0.000000  0.901551  0.001671  \n",
       "9  0.011815  0.012060  0.946514  "
      ]
     },
     "execution_count": 231,
     "metadata": {},
     "output_type": "execute_result"
    }
   ],
   "source": [
    "density_matrix = pd.DataFrame({\"0\":confusion_0_density.T.values[0], \"1\":confusion_1_density.T.values[0],\n",
    "                               \"2\":confusion_2_density.T.values[0], \"3\":confusion_3_density.T.values[0],\n",
    "                               \"4\":confusion_4_density.T.values[0], \"5\":confusion_5_density.T.values[0],\n",
    "                               \"6\":confusion_6_density.T.values[0], \"7\":confusion_7_density.T.values[0],\n",
    "                               \"8\":confusion_8_density.T.values[0], \"9\":confusion_9_density.T.values[0]},\n",
    "                              index=[0,1,2,3,4,5,6,7,8,9])\n",
    "density_matrix"
   ]
  },
  {
   "cell_type": "markdown",
   "metadata": {},
   "source": [
    "## (j)"
   ]
  },
  {
   "cell_type": "code",
   "execution_count": 6,
   "metadata": {},
   "outputs": [],
   "source": [
    "# Combine data and index number for testing dataset, so multiprocessing do not mess it up\n",
    "test_index = np.arange(1, len(test_data) + 1).tolist()\n",
    "test_info = list(zip(test_index, test_data))"
   ]
  },
  {
   "cell_type": "code",
   "execution_count": 7,
   "metadata": {},
   "outputs": [],
   "source": [
    "# We use K = 3 for the final model\n",
    "# Create a function to run the knn\n",
    "def run_knn(knn_res, test_info):\n",
    "    test_index, test_dat = test_info\n",
    "    result = my_knn(data_point = test_dat, k = [3])\n",
    "    # Put the results into list\n",
    "    knn_res.append([test_index, result[0]])"
   ]
  },
  {
   "cell_type": "code",
   "execution_count": 8,
   "metadata": {},
   "outputs": [],
   "source": [
    "# Create a global list for multiprocessing to use\n",
    "knn_res = mp.Manager().list()\n",
    "# Using multiprocessing to run the first fold as validation\n",
    "funct_knn_final = partial(run_knn, knn_res)\n",
    "pool_fold_final = mp.Pool(processes = 12)\n",
    "pool_fold_final.map(funct_knn_final, test_info)\n",
    "pool_fold_final.close()\n",
    "\n",
    "# Store the results form the first fold\n",
    "final_results = list(knn_res)"
   ]
  },
  {
   "cell_type": "code",
   "execution_count": 9,
   "metadata": {},
   "outputs": [],
   "source": [
    "# Put the results back in index order\n",
    "final_sorted_result = list(final_results)\n",
    "final_sorted_result.sort(key = lambda l: l[0])"
   ]
  },
  {
   "cell_type": "code",
   "execution_count": 10,
   "metadata": {},
   "outputs": [
    {
     "data": {
      "text/html": [
       "<div>\n",
       "<style scoped>\n",
       "    .dataframe tbody tr th:only-of-type {\n",
       "        vertical-align: middle;\n",
       "    }\n",
       "\n",
       "    .dataframe tbody tr th {\n",
       "        vertical-align: top;\n",
       "    }\n",
       "\n",
       "    .dataframe thead th {\n",
       "        text-align: right;\n",
       "    }\n",
       "</style>\n",
       "<table border=\"1\" class=\"dataframe\">\n",
       "  <thead>\n",
       "    <tr style=\"text-align: right;\">\n",
       "      <th></th>\n",
       "      <th>ImageId</th>\n",
       "      <th>Label</th>\n",
       "    </tr>\n",
       "  </thead>\n",
       "  <tbody>\n",
       "    <tr>\n",
       "      <th>0</th>\n",
       "      <td>1</td>\n",
       "      <td>2</td>\n",
       "    </tr>\n",
       "    <tr>\n",
       "      <th>1</th>\n",
       "      <td>2</td>\n",
       "      <td>0</td>\n",
       "    </tr>\n",
       "    <tr>\n",
       "      <th>2</th>\n",
       "      <td>3</td>\n",
       "      <td>9</td>\n",
       "    </tr>\n",
       "    <tr>\n",
       "      <th>3</th>\n",
       "      <td>4</td>\n",
       "      <td>9</td>\n",
       "    </tr>\n",
       "    <tr>\n",
       "      <th>4</th>\n",
       "      <td>5</td>\n",
       "      <td>3</td>\n",
       "    </tr>\n",
       "  </tbody>\n",
       "</table>\n",
       "</div>"
      ],
      "text/plain": [
       "   ImageId  Label\n",
       "0        1      2\n",
       "1        2      0\n",
       "2        3      9\n",
       "3        4      9\n",
       "4        5      3"
      ]
     },
     "execution_count": 10,
     "metadata": {},
     "output_type": "execute_result"
    }
   ],
   "source": [
    "# Put answer into proper kaggle format\n",
    "final_ans = pd.DataFrame(final_sorted_result, columns = [\"ImageId\", \"Label\"])\n",
    "final_ans.head()"
   ]
  },
  {
   "cell_type": "code",
   "execution_count": 11,
   "metadata": {},
   "outputs": [],
   "source": [
    "# Save solution\n",
    "final_ans.to_csv(\"assignment_1_knn_results.csv\", index = False)"
   ]
  }
 ],
 "metadata": {
  "kernelspec": {
   "display_name": "Python 3",
   "language": "python",
   "name": "python3"
  },
  "language_info": {
   "codemirror_mode": {
    "name": "ipython",
    "version": 3
   },
   "file_extension": ".py",
   "mimetype": "text/x-python",
   "name": "python",
   "nbconvert_exporter": "python",
   "pygments_lexer": "ipython3",
   "version": "3.6.8"
  }
 },
 "nbformat": 4,
 "nbformat_minor": 2
}
