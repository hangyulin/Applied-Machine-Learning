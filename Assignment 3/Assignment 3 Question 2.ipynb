{
 "cells": [
  {
   "cell_type": "markdown",
   "metadata": {},
   "source": [
    "# Question 2"
   ]
  },
  {
   "cell_type": "markdown",
   "metadata": {},
   "source": [
    "## (a)"
   ]
  },
  {
   "cell_type": "code",
   "execution_count": 1,
   "metadata": {},
   "outputs": [],
   "source": [
    "import numpy as np\n",
    "from sklearn.cluster import KMeans\n",
    "from matplotlib import pylab as plt\n",
    "%matplotlib inline\n",
    "from sklearn.metrics.pairwise import euclidean_distances\n",
    "import pandas as pd\n",
    "from sklearn.metrics import silhouette_score"
   ]
  },
  {
   "cell_type": "code",
   "execution_count": 2,
   "metadata": {
    "scrolled": true
   },
   "outputs": [],
   "source": [
    "#load all the data into Python\n",
    "sub_a = np.load(\"science2k-doc-word.npy\")\n",
    "sub_b = np.load(\"science2k-word-doc.npy\")\n",
    "\n",
    "#use dataframe to read \n",
    "titles = pd.read_table('science2k-titles.txt').values\n",
    "vocab = pd.read_table('science2k-vocab.txt').values"
   ]
  },
  {
   "cell_type": "code",
   "execution_count": 3,
   "metadata": {},
   "outputs": [],
   "source": [
    "#compare different k values \n",
    "#use sum of squared distance as a metric to determine best k values \n",
    "inertia_sub_a = []\n",
    "for k in range(2, 26):\n",
    "    km = KMeans(n_clusters = k, n_jobs = -1).fit(sub_a)\n",
    "    inertia_sub_a.append(km.inertia_)"
   ]
  },
  {
   "cell_type": "code",
   "execution_count": 4,
   "metadata": {},
   "outputs": [
    {
     "data": {
      "image/png": "[encoded data removed]",
      "text/plain": [
       "<Figure size 432x288 with 1 Axes>"
      ]
     },
     "metadata": {
      "needs_background": "light"
     },
     "output_type": "display_data"
    }
   ],
   "source": [
    "#plot inertia vs. k-values for each file \n",
    "fig, ax = plt.subplots()\n",
    "ax.plot(range(2,26),inertia_sub_a, color = 'black')\n",
    "\n",
    "plt.title(\"science2k-doc-word\")\n",
    "plt.xlabel(\"k-values\")\n",
    "plt.ylabel(\"Inertia\")\n",
    "plt.show()"
   ]
  },
  {
   "cell_type": "markdown",
   "metadata": {},
   "source": [
    "From the graph above, we can see that k = 10 is the best k-value."
   ]
  },
  {
   "cell_type": "code",
   "execution_count": 5,
   "metadata": {},
   "outputs": [],
   "source": [
    "#select a k-value \n",
    "\n",
    "#run k-means with k-value = 10\n",
    "km = KMeans(n_clusters = 10, random_state=0, n_jobs = -1).fit(sub_a)\n",
    "labels = km.labels_\n",
    "clusters = km.cluster_centers_"
   ]
  },
  {
   "cell_type": "code",
   "execution_count": 6,
   "metadata": {},
   "outputs": [
    {
     "name": "stdout",
     "output_type": "stream",
     "text": [
      "['phase', 'values', 'cells', 'point', 'found', 'temperature', 'north', 'order', 'respectively', 'right']\n",
      "\n",
      "['bound', 'recognition', 'alleles', 'charge', 'possibility', 'ice', 'box', 'today', 'findings', 'positive']\n",
      "\n",
      "['rates', 'photosynthetic', 'extended', 'breakup', 'spins', 'agricultural', 'equator', 'mark', 'california', 'convection']\n",
      "\n",
      "['system', 'animals', 'brain', 'new', 'results', 'high', 'substantial', 'hiv', 'western', 'atoms']\n",
      "\n",
      "['cells', 'case', 'lower', 'subunit', 'studies', 'seen', 'scale', 'turn', 'colleagues', 'first']\n",
      "\n",
      "['gene', 'found', 'provided', 'experiment', 'development', 'groups', 'concentrations', 'group', 'enhanced', 'regions']\n",
      "\n",
      "['science', 'time', 'shown', 'data', 'long', 'sequences', 'new', 'cells', 'expression', 'years']\n",
      "\n",
      "['cdtl', 'bacteria', 'fixation', 'gst', 'confirmed', 'amino', 'calculate', 'growing', 'telomerase', 'theres']\n",
      "\n",
      "['amino', 'single', 'phys', 'temperature', 'dependent', 'host', 'occurs', 'experiments', 'involved', 'time']\n",
      "\n",
      "['state', 'major', 'available', 'levels', 'self', 'resolution', 'atp', 'experimental', 'observed', 'human']\n",
      "\n"
     ]
    }
   ],
   "source": [
    "#report the top 10 farthest words \n",
    "word_mean = np.mean(sub_a,axis = 0)\n",
    "word_distances = np.argsort(clusters-word_mean,axis=1)[:,::-1]\n",
    "for d in range(word_distances.shape[0]):\n",
    "    cloest_words = []\n",
    "    for x in word_distances[d,:10]:\n",
    "        cloest_words.append(vocab[x][0])\n",
    "    print(cloest_words)\n",
    "    print(\"\")"
   ]
  },
  {
   "cell_type": "code",
   "execution_count": 7,
   "metadata": {},
   "outputs": [
    {
     "name": "stdout",
     "output_type": "stream",
     "text": [
      "['Evidence for a Low-Density Universe from the Relative Velocities of Galaxies', 'Mutations in SDHD, A Mitochondrial Complex II Gene, in Hereditary Paraganglioma', 'Single-File Diffusion of Colloids in One-Dimensional Channels', 'A Population of Murine gd T Cells That Recognize an Inducible MHC Class Ib Molecule', 'Oxygen Isotopes and Emerald Trade Routes since Antiquity', 'Ambipolar Pentacene Field-Effect Transistors and Inverters', \"Solar Missions Brighten NASA's Hopes for Space Science Research\", 'Some like It Hot', 'Function of PI3Kg in Thymocyte Development, T Cell Activation, and Neutrophil Migration', 'The Green Revolution Strikes Gold']\n",
      "----------------\n",
      "['Surface Expression of HLA-E, An Inhibitor of Natural Killer Cells, Enhanced by Human Cytomegalovirus gpUL40', 'Restoration-A Misnomer?', 'Planetary Science: A Space Odyssey', 'Direct Observation of Dynamical Heterogeneities in Colloidal Hard-Sphere Suspensions', 'Formation of Cyclic Water Hexamer in Liquid Helium: The Smallest Piece of Ice', 'Distal Initiation and Active Propagation of Action Potentials in Interneuron Dendrites', 'Of Chimps and Men', \"Baedeker's Guide, or Just Plain 'Trouble'?\", \"Solar Missions Brighten NASA's Hopes for Space Science Research\", 'Efficient Activation of Aromatic C-H Bonds for Addition to C-C Multiple Bonds']\n",
      "----------------\n",
      "[\"Baedeker's Guide, or Just Plain 'Trouble'?\"]\n",
      "----------------\n",
      "['Regulation of Abscisic Acid-Induced Stomatal Closure and Anion Channels by Guard Cell AAPK Kinase', 'Evidence for a Low-Density Universe from the Relative Velocities of Galaxies', 'Corrections and Clarifications: Commercialization of Genetic Research and Public Policy', 'Will Tribal Knowledge Survive the Millennium?', \"Evidence for Crystalline Water and Ammonia Ices on Pluto's Satellite Charon\", 'DNA Topoisomerase IIb and Neural Development', 'Natural Selection and Parallel Speciation in Sympatric Sticklebacks', 'Corrections and Clarifications: First-Principles Determination of Elastic Anisotrophy and Wave Velocities of MgO at Lower Mantle Conditions', 'Engineering the Provitamin A (b-Carotene) Biosynthetic Pathway into (Carotenoid-Free) Rice Endosperm', 'The Dark Halo of the Milky Way']\n",
      "----------------\n",
      "['Memory-A Century of Consolidation', 'Integrating the Many Aspects of Biology', 'The Dark Halo of the Milky Way', 'Diversity in Inhibition', 'Strength and Breaking Mechanism of Multiwalled Carbon Nanotubes under Tensile Load', 'Severely Reduced Female Fertility in CD9-Deficient Mice', 'A Population of Murine gd T Cells That Recognize an Inducible MHC Class Ib Molecule', \"Toward the End of <latex>$PuO{_2}'s$</latex> Supremacy?\", 'Social Mentalizing Abilities in Mental Patients', 'Heretical Idea Faces Its Sternest Test']\n",
      "----------------\n",
      "['One Polypeptide with Two Aminoacyl-tRNA Synthetase Activities', 'Graduate Educators Struggle to Grade Themselves', 'Transmission of Vesicular Stomatitis Virus from Infected to Noninfected Black Flies Co-Feeding on Nonviremic Deer Mice', 'Trienoic Fatty Acids and Plant Tolerance of High Temperature', 'Mirrorless Lasing from Mesostructured Waveguides Patterned by Soft Lithography', \"Charon's First Detailed Spectra Hold Many Surprises\", 'An Integrative Science Finds a Home', 'Nota Bene: Sensing Old Age', 'Formation of Cyclic Water Hexamer in Liquid Helium: The Smallest Piece of Ice', 'A Crushing End for Our Galaxy']\n",
      "----------------\n",
      "['Mitochondrial FtsZ in a Chromophyte Alga', 'The Glucocorticoid Receptor: Rapid Exchange with Regulatory Sites in Living Cells', 'The Role of the Southern Ocean in Uptake and Storage of Anthropogenic Carbon Dioxide', 'Resonant Formation of DNA Strand Breaks by Low-Energy (3 to 20 eV) Electrons', 'The Problematic Venture Capitalist', 'Ultrafast Mid-Infrared Response of <latex>$YBa_2Cu_3O_{7-\\\\delta}$</latex>', 'Evidence for a High Frequency of Simultaneous Double-Nucleotide Substitutions', 'Connectivity of Marine Populations: Open or Closed?', 'Generating Solitons by Phase Engineering of a Bose-Einstein Condensate', 'Vaccine Studies Stymied by Shortage of Animals']\n",
      "----------------\n",
      "[\"Baedeker's Guide, or Just Plain 'Trouble'?\"]\n",
      "----------------\n",
      "['The Changing Morphology and Increasing Deceleration of Supernova 1993J in M81', 'Social Mentalizing Abilities in Mental Patients', 'Nota Bene: Sensing Old Age', 'The Dark Halo of the Milky Way', 'Evidence for a Low-Density Universe from the Relative Velocities of Galaxies', 'Sex Determination in Malaria Parasites', 'Resistance to Bt Toxins', 'Will Tribal Knowledge Survive the Millennium?', 'A Mammalian <latex>$H^+$</latex> Channel Generated through Alternative Splicing of the NADPH Oxidase Homolog NOH-1', \"Baedeker's Guide, or Just Plain 'Trouble'?\"]\n",
      "----------------\n",
      "['Corrections and Clarifications: Unearthing Monuments of the Yarmukians', 'Into the Lair of the Beast', 'Voltage- and Tension-Dependent Lipid Mobility in the Outer Hair Cell Plasma Membrane', 'Quantum-Critical Conductivity Scaling for a Metal-Insulator Transition', 'Heretical Idea Faces Its Sternest Test', 'Bead-Based Fiber-Optic Arrays', 'Regulation of Protein Secretion through Controlled Aggregation in the Endoplasmic Reticulum', 'Corrections and Clarifications: A Short Fe-Fe Distance in Peroxodiferric Ferritin: Control of Fe Substrate versus Cofactor Decay?', 'Influences of Dietary Uptake and Reactive Sulfides on Metal Bioavailability from Aquatic Sediments', 'Rad6-Dependent Ubiquitination of Histone H2B in Yeast']\n",
      "----------------\n"
     ]
    }
   ],
   "source": [
    "#report top 10 documents that falls closest to each cluster\n",
    "for i in range(10):\n",
    "    closest = np.argsort(euclidean_distances(sub_a[labels == i],clusters[i].reshape(1,-1)),axis=0)[:10]\n",
    "    print([titles[each][0,0] for each in closest])\n",
    "    print(\"----------------\")"
   ]
  },
  {
   "cell_type": "markdown",
   "metadata": {},
   "source": [
    "### The algorithm captured documents by similarity, grouping similar documents together in a cluster. It is useful when there are no labelled data, and you still need to seperate the data into groups somehow. When we want to classify documents by the number of words that overlap in each document, and clustering the documents with more overlapping words together."
   ]
  },
  {
   "cell_type": "markdown",
   "metadata": {},
   "source": [
    "## (b)"
   ]
  },
  {
   "cell_type": "code",
   "execution_count": 8,
   "metadata": {},
   "outputs": [],
   "source": [
    "#compare different k values \n",
    "#use sum of squared distance as a metric to determine best k values \n",
    "inertia_sub_b = []\n",
    "for k in range(2, 26):\n",
    "    km = KMeans(n_clusters = k, n_jobs = -1).fit(sub_b)\n",
    "    inertia_sub_b.append(km.inertia_)"
   ]
  },
  {
   "cell_type": "code",
   "execution_count": 9,
   "metadata": {},
   "outputs": [
    {
     "data": {
      "image/png": "[encoded data removed]",
      "text/plain": [
       "<Figure size 432x288 with 1 Axes>"
      ]
     },
     "metadata": {
      "needs_background": "light"
     },
     "output_type": "display_data"
    }
   ],
   "source": [
    "#plot inertia vs. k-values for each file \n",
    "fig, ax = plt.subplots()\n",
    "ax.plot(range(2,26),inertia_sub_b, color = 'black')\n",
    "\n",
    "plt.title(\"science2k-word-doc\")\n",
    "plt.xlabel(\"k-values\")\n",
    "plt.ylabel(\"Inertia\")\n",
    "plt.show()"
   ]
  },
  {
   "cell_type": "markdown",
   "metadata": {},
   "source": [
    "From the graph above, k = 10 as well"
   ]
  },
  {
   "cell_type": "code",
   "execution_count": 10,
   "metadata": {},
   "outputs": [],
   "source": [
    "#select a k-value \n",
    "#run k-means with k-value = 10\n",
    "km = KMeans(n_clusters = 10, random_state=0, n_jobs = -1).fit(sub_b)\n",
    "labels = km.labels_\n",
    "clusters = km.cluster_centers_"
   ]
  },
  {
   "cell_type": "code",
   "execution_count": 11,
   "metadata": {},
   "outputs": [
    {
     "name": "stdout",
     "output_type": "stream",
     "text": [
      "['see', 'year', 'nature', 'water', 'usa', 'sequence', 'present', 'change', 'based', 'complex']\n",
      "----------------\n",
      "['sleep', 'played', 'paul', 'really', 'bull', 'fuel', 'extracted', 'tuning', 'heterozygous', 'filter']\n",
      "----------------\n",
      "['cross', 'difference', 'body', 'make', 'observations', 'events', 'materials', 'individual', 'quantum', 'references']\n",
      "----------------\n",
      "['interaction', 'likely', 'interactions', 'institute', 'end', 'compared', 'times', 'systems', 'related', 'min']\n",
      "----------------\n",
      "['human', 'control', 'years', 'three', 'results', 'model', 'observed', 'mice', 'different', 'genes']\n",
      "----------------\n",
      "['death', 'stable', 'transgenic', 'magnitude', 'contact', 'common', 'occurred', 'increasing', 'stage', 'six']\n",
      "----------------\n",
      "['cells']\n",
      "----------------\n",
      "['science', 'cells']\n",
      "----------------\n",
      "['science', 'means', 'mhc', 'purified', 'leading', 'help', 'simulations', 'represent', 'soil', 'sections']\n",
      "----------------\n",
      "['features', 'channel', 'back', 'bars', 'animal', 'tissue', 'smaller', 'drug', 'pathways', 'mol']\n",
      "----------------\n"
     ]
    }
   ],
   "source": [
    "#report top 10 documents that falls closest to each cluster\n",
    "for i in range(10):\n",
    "    closest = np.argsort(euclidean_distances(sub_b[labels == i],clusters[i].reshape(1,-1)),axis=0)[:10]\n",
    "    print([vocab[each][0][0] for each in closest])\n",
    "    print(\"----------------\")"
   ]
  },
  {
   "cell_type": "code",
   "execution_count": 12,
   "metadata": {},
   "outputs": [
    {
     "name": "stdout",
     "output_type": "stream",
     "text": [
      "['Roles of PLC-b2 and -b3 and PI3Kg in Chemoattractant-Mediated Signal Transduction', 'Requirement for DARPP-32 in Progesterone-Facilitated Sexual Receptivity in Female Rats and Mice', 'Function of an Axonal Chemoattractant Modulated by Metalloprotease Activity', 'Central Role for G Protein-Coupled Phosphoinositide 3-Kinase g in Inflammation', 'Perception of Brassinosteroids by the Extracellular Domain of the Receptor Kinase BRI1', 'A Primitive T Cell-Independent Mechanism of Intestinal Mucosal IgA Responses to Commensal Bacteria', 'Balancing the Science Budget', 'Seeing the Herpesvirus Capsid at 8.5 $\\\\AA$', 'Proximity of Chromosomal Loci That Participate in Radiation-Induced Rearrangements in Human Cells', 'Synaptic Assembly of the Brain in the Absence of Neurotransmitter Secretion']\n",
      "\n",
      "['Dialog on Depression', 'Subduction and Slab Detachment in the Mediterranean-Carpathian Region', 'From Turin to Stockholm via St. Louis and Rio de Janeiro', 'Corrections and Clarifications: Unearthing Monuments of the Yarmukians', \"Corrections and Clarifications: Charon's First Detailed Spectra Hold Many Surprises\", 'Corrections and Clarifications: Biotech Research Proves a Draw in Canada', 'Corrections and Clarifications: Uninterrupted MCM2-7 Function Required for DNA Replication Fork Progression', 'Corrections and Clarifications: A Nuclear Solution to Climatic Change?', 'U.S. Policies Pertaining to Weather and Climate Extremes', 'Selling Science to the Public']\n",
      "\n",
      "['Quantum Criticality: Competing Ground States in Low Dimensions', 'An Oral Vaccine against NMDAR1 with Efficacy in Experimental Stroke and Epilepsy', 'Sources of Quantum Protection in <latex>$High-T_c$</latex> Superconductivity', 'Advances in the Physics of High-Temperature Superconductivity', 'Tunable Resistance of a Carbon Nanotube-Graphite Interface', 'Dispersive Multiplexing in Multimode Optical Fiber', 'Viscosity Mechanisms in Accretion Disks', 'Equilibrium Regained: From Nonequilibrium Chaos to Statistical Mechanics', 'The Shape of 433 Eros from the NEAR-Shoemaker Laser Rangefinder', 'Mass Balance of the Greenland Ice Sheet at High Elevations']\n",
      "\n",
      "['The Structural Basis of Ribosome Activity in Peptide Bond Synthesis', 'A Whole-Genome Assembly of Drosophila', 'fw2.2: A Quantitative Trait Locus Key to the Evolution of Tomato Fruit Size', 'High-Gain Harmonic-Generation Free-Electron Laser', 'Three-Layered Atmospheric Structure in Accretion Disks around Stellar-Mass Black Holes', 'Balancing the Science Budget', 'A Population of Murine gd T Cells That Recognize an Inducible MHC Class Ib Molecule', 'Windows through the Dusty Disks Surrounding the Youngest Low-Mass Protostellar Objects', 'Shaped Ceramics with Tunable Magnetic Properties from Metal-Containing Polymers', 'Kinesin Superfamily Motor Protein KIF17 and mLin-10 in NMDA Receptor-Containing Vesicle Transport']\n",
      "\n",
      "['Electronic Structures of Single-Walled Carbon Nanotubes Determined by NMR', 'From Marrow to Brain: Expression of Neuronal Phenotypes in Adult Mice', \"A Brief History of Drosophila's Contributions to Genome Research\", 'Stable RNA/DNA Hybrids in the Mammalian Genome: Inducible Intermediates in Immunoglobulin Class Switch Recombination', 'A Whole-Genome Assembly of Drosophila', 'Pif1p Helicase, a Catalytic Inhibitor of Telomerase in Yeast', 'DNA Damage-Induced Activation of p53 by the Checkpoint Kinase Chk2', 'Causes of Climate Change over the past 1000 Years', 'Stellar Production Rates of Carbon and Its Abundance in the Universe', 'A Short Fe-Fe Distance in Peroxodiferric Ferritin: Control of Fe Substrate versus Cofactor Decay?']\n",
      "\n",
      "['Planar Hexacoordinate Carbon: A Viable Possibility', 'Is El Nino Changing?', 'Radio Science Results during the NEAR-Shoemaker Spacecraft Rendezvous with Eros', 'Signature of Superfluid Density in the Single-Particle Excitation Spectrum of <latex>$Bi_2Sr_2CaCu_2O_{8+\\\\delta}$</latex>', 'Synchronous Radiocarbon and Climate Shifts during the Last Deglaciation', 'Nonavian Feathers in a Late Triassic Archosaur', 'Suppression of Rain and Snow by Urban and Industrial Air Pollution', 'Mantle Convection and Plate Tectonics: Toward an Integrated Physical and Chemical Theory', 'Structural Evidence for Evolution of the b/a Barrel Scaffold by Gene Duplication and Fusion', 'Gene Targeting by Homologous Recombination in Drosophila']\n",
      "\n",
      "[\"I'd like to See America Used as a Global Lab\", 'Extended Life-Span Conferred by Cotransporter Gene Mutations in Drosophila', 'The Genome Sequence of Drosophila melanogaster', 'Intracellular Parasitism by Histoplasma capsulatum: Fungal Virulence and Calcium Dependence', 'Role of BAX in the Apoptotic Response to Anticancer Agents', 'Transgene and Transposon Silencing in Chlamydomonas reinhardtii by a DEAH-Box RNA Helicase', 'Protection against Cutaneous Leishmaniasis Resulting from Bites of Uninfected Sand Flies', 'Regulation of Absorption and ABC1-Mediated Efflux of Cholesterol by RXR Heterodimers', 'Planned Ritalin Trial for Tots Heads into Uncharted Waters', 'Large-Scale Thermal Events in the Solar Nebula: Evidence from Fe,Ni Metal Grains in Primitive Meteorites']\n",
      "\n",
      "['Nonrandom Extinction and the Loss of Evolutionary History', 'N-Cadherin, a Cell Adhesion Molecule Involved in Establishment of Embryonic Left-Right Asymmetry', 'Polyploidy and the Evolution of Gender Dimorphism in Plants', 'Intracellular Parasitism by the Human Granulocytic Ehrlichiosis Bacterium through the P-Selectin Ligand, PSGL-1', 'Heightened Odds of Large Earthquakes near Istanbul: An Interaction-Based Probability Calculation', 'CLAVATA3, a Multimeric Ligand for the CLAVATA1 Receptor-Kinase', 'Impaired Nociception and Pain Sensation in Mice Lacking the Capsaicin Receptor', 'Direct Coupling between Meiotic DNA Replication and Recombination Initiation', 'Will Livermore Laser Ever Burn Brightly?', 'Salmonella Pathogenicity Island 2-Dependent Evasion of the Phagocyte NADPH Oxidase']\n",
      "\n",
      "['Requirement for DARPP-32 in Progesterone-Facilitated Sexual Receptivity in Female Rats and Mice', 'Stable RNA/DNA Hybrids in the Mammalian Genome: Inducible Intermediates in Immunoglobulin Class Switch Recombination', 'Forming Supramolecular Networks from Nanoscale Rods in Binary, Phase-Separating Mixtures', 'Ubiquitin Protein Ligase Activity of IAPs and Their Degradation in Proteasomes in Response to Apoptotic Stimuli', 'Causes of Climate Change over the past 1000 Years', 'Roles of PLC-b2 and -b3 and PI3Kg in Chemoattractant-Mediated Signal Transduction', 'T-Independent Immune Response: New Aspects of B Cell Biology', 'A Subset of Viral Transcripts Packaged within Human Cytomegalovirus Particles', 'Electronic Structures of Single-Walled Carbon Nanotubes Determined by NMR', \"A Brief History of Drosophila's Contributions to Genome Research\"]\n",
      "\n",
      "['The Mouse House as a Recruiting Tool', 'New Corn Plant Draws Fire from GM Food Opponents', 'Coaxing Molecular Devices to Build Themselves', 'Math and Science Education: Training the Teachers', 'Science Survives in Breakthrough States', \"Geologists Pursue Solar System's Oldest Relics\", 'Global Warming, Insects Take the Stage at Snowbird', 'In Search of Biological Weirdness', 'Learning to Dissect Dinosaurs: Digitally', 'A New Breed of Scientist-Advocate Emerges']\n",
      "\n"
     ]
    }
   ],
   "source": [
    "#report the top 10 farthest words \n",
    "word_mean = np.mean(sub_b,axis = 0)\n",
    "word_distances = np.argsort(clusters-word_mean,axis=1)[:,::-1]\n",
    "for d in range(word_distances.shape[0]):\n",
    "    cloest_docs = []\n",
    "    for x in word_distances[d,:10]:\n",
    "        cloest_docs.append(titles[x][0])\n",
    "    print(cloest_docs)\n",
    "    print(\"\")"
   ]
  },
  {
   "cell_type": "markdown",
   "metadata": {},
   "source": [
    "### The algorithm captured documents by similarity in term-wise, grouping similar documents together in a cluster. It is useful when there are no labelled data, and you still need to seperate the data into groups somehow. When we want to classify documents by term-wise for each document, and clustering the documents together."
   ]
  }
 ],
 "metadata": {
  "kernelspec": {
   "display_name": "Python 3",
   "language": "python",
   "name": "python3"
  },
  "language_info": {
   "codemirror_mode": {
    "name": "ipython",
    "version": 3
   },
   "file_extension": ".py",
   "mimetype": "text/x-python",
   "name": "python",
   "nbconvert_exporter": "python",
   "pygments_lexer": "ipython3",
   "version": "3.6.8"
  }
 },
 "nbformat": 4,
 "nbformat_minor": 2
}
